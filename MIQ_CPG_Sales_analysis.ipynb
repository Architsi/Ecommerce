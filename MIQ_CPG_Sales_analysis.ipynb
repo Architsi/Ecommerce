{
  "nbformat": 4,
  "nbformat_minor": 0,
  "metadata": {
    "colab": {
      "name": "MIQ CPG Sales analysis",
      "provenance": [],
      "authorship_tag": "ABX9TyPtBLFHOBsr/ac5BqGFbgbp",
      "include_colab_link": true
    },
    "kernelspec": {
      "name": "python3",
      "display_name": "Python 3"
    }
  },
  "cells": [
    {
      "cell_type": "markdown",
      "metadata": {
        "id": "view-in-github",
        "colab_type": "text"
      },
      "source": [
        "<a href=\"https://colab.research.google.com/github/Architsi/Ecommerce/blob/master/MIQ_CPG_Sales_analysis.ipynb\" target=\"_parent\"><img src=\"https://colab.research.google.com/assets/colab-badge.svg\" alt=\"Open In Colab\"/></a>"
      ]
    },
    {
      "cell_type": "markdown",
      "metadata": {
        "id": "7ytdqInO39sC"
      },
      "source": [
        "## Importing dependencies"
      ]
    },
    {
      "cell_type": "code",
      "metadata": {
        "id": "5YMFI1iAMicp"
      },
      "source": [
        "import pandas as pd\n",
        "import numpy as np\n",
        "import matplotlib.pyplot as plt\n"
      ],
      "execution_count": 2,
      "outputs": []
    },
    {
      "cell_type": "markdown",
      "metadata": {
        "id": "xJxTWJWT4B3C"
      },
      "source": [
        "## Importing data"
      ]
    },
    {
      "cell_type": "code",
      "metadata": {
        "id": "JlB0HbQJ4Llt",
        "colab": {
          "base_uri": "https://localhost:8080/",
          "height": 204
        },
        "outputId": "22d5abd1-662e-47a8-c48f-4ca4355affbf"
      },
      "source": [
        "sales_header = ['store_id','date_of_sale','product','sales_qty']\n",
        "sales = pd.read_csv(\"sales.csv\", delimiter=\"\\t\", names = sales_header )\n",
        "sales.head()"
      ],
      "execution_count": 26,
      "outputs": [
        {
          "output_type": "execute_result",
          "data": {
            "text/html": [
              "<div>\n",
              "<style scoped>\n",
              "    .dataframe tbody tr th:only-of-type {\n",
              "        vertical-align: middle;\n",
              "    }\n",
              "\n",
              "    .dataframe tbody tr th {\n",
              "        vertical-align: top;\n",
              "    }\n",
              "\n",
              "    .dataframe thead th {\n",
              "        text-align: right;\n",
              "    }\n",
              "</style>\n",
              "<table border=\"1\" class=\"dataframe\">\n",
              "  <thead>\n",
              "    <tr style=\"text-align: right;\">\n",
              "      <th></th>\n",
              "      <th>store_id</th>\n",
              "      <th>date_of_sale</th>\n",
              "      <th>product</th>\n",
              "      <th>sales_qty</th>\n",
              "    </tr>\n",
              "  </thead>\n",
              "  <tbody>\n",
              "    <tr>\n",
              "      <th>0</th>\n",
              "      <td>86</td>\n",
              "      <td>2019/05/23</td>\n",
              "      <td>ProductA</td>\n",
              "      <td>1</td>\n",
              "    </tr>\n",
              "    <tr>\n",
              "      <th>1</th>\n",
              "      <td>212</td>\n",
              "      <td>2019/05/24</td>\n",
              "      <td>ProductA</td>\n",
              "      <td>1</td>\n",
              "    </tr>\n",
              "    <tr>\n",
              "      <th>2</th>\n",
              "      <td>371</td>\n",
              "      <td>2019/05/18</td>\n",
              "      <td>ProductA</td>\n",
              "      <td>0</td>\n",
              "    </tr>\n",
              "    <tr>\n",
              "      <th>3</th>\n",
              "      <td>505</td>\n",
              "      <td>2019/05/19</td>\n",
              "      <td>ProductA</td>\n",
              "      <td>0</td>\n",
              "    </tr>\n",
              "    <tr>\n",
              "      <th>4</th>\n",
              "      <td>622</td>\n",
              "      <td>2019/05/20</td>\n",
              "      <td>ProductA</td>\n",
              "      <td>0</td>\n",
              "    </tr>\n",
              "  </tbody>\n",
              "</table>\n",
              "</div>"
            ],
            "text/plain": [
              "   store_id date_of_sale   product  sales_qty\n",
              "0        86   2019/05/23  ProductA          1\n",
              "1       212   2019/05/24  ProductA          1\n",
              "2       371   2019/05/18  ProductA          0\n",
              "3       505   2019/05/19  ProductA          0\n",
              "4       622   2019/05/20  ProductA          0"
            ]
          },
          "metadata": {
            "tags": []
          },
          "execution_count": 26
        }
      ]
    },
    {
      "cell_type": "code",
      "metadata": {
        "colab": {
          "base_uri": "https://localhost:8080/",
          "height": 204
        },
        "id": "FBaCJHEpJcpg",
        "outputId": "495b00ff-0c3f-4f77-875e-c6601eeb0346"
      },
      "source": [
        "stores_header = ['store_id','city','state','zip']\n",
        "stores = pd.read_csv(\"stores.csv\", delimiter=\"\\t\", names = stores_header )\n",
        "stores.head()"
      ],
      "execution_count": 62,
      "outputs": [
        {
          "output_type": "execute_result",
          "data": {
            "text/html": [
              "<div>\n",
              "<style scoped>\n",
              "    .dataframe tbody tr th:only-of-type {\n",
              "        vertical-align: middle;\n",
              "    }\n",
              "\n",
              "    .dataframe tbody tr th {\n",
              "        vertical-align: top;\n",
              "    }\n",
              "\n",
              "    .dataframe thead th {\n",
              "        text-align: right;\n",
              "    }\n",
              "</style>\n",
              "<table border=\"1\" class=\"dataframe\">\n",
              "  <thead>\n",
              "    <tr style=\"text-align: right;\">\n",
              "      <th></th>\n",
              "      <th>store_id</th>\n",
              "      <th>city</th>\n",
              "      <th>state</th>\n",
              "      <th>zip</th>\n",
              "    </tr>\n",
              "  </thead>\n",
              "  <tbody>\n",
              "    <tr>\n",
              "      <th>0</th>\n",
              "      <td>37</td>\n",
              "      <td>FARMINGTON</td>\n",
              "      <td>MO</td>\n",
              "      <td>63640</td>\n",
              "    </tr>\n",
              "    <tr>\n",
              "      <th>1</th>\n",
              "      <td>2284</td>\n",
              "      <td>NAUGATUCK</td>\n",
              "      <td>CT</td>\n",
              "      <td>6770</td>\n",
              "    </tr>\n",
              "    <tr>\n",
              "      <th>2</th>\n",
              "      <td>2274</td>\n",
              "      <td>FOREST LAKE</td>\n",
              "      <td>MN</td>\n",
              "      <td>55025</td>\n",
              "    </tr>\n",
              "    <tr>\n",
              "      <th>3</th>\n",
              "      <td>4368</td>\n",
              "      <td>OCALA</td>\n",
              "      <td>FL</td>\n",
              "      <td>34472</td>\n",
              "    </tr>\n",
              "    <tr>\n",
              "      <th>4</th>\n",
              "      <td>2102</td>\n",
              "      <td>LUDINGTON</td>\n",
              "      <td>MI</td>\n",
              "      <td>49431</td>\n",
              "    </tr>\n",
              "  </tbody>\n",
              "</table>\n",
              "</div>"
            ],
            "text/plain": [
              "   store_id         city state    zip\n",
              "0        37   FARMINGTON    MO  63640\n",
              "1      2284    NAUGATUCK    CT   6770\n",
              "2      2274  FOREST LAKE    MN  55025\n",
              "3      4368        OCALA    FL  34472\n",
              "4      2102    LUDINGTON    MI  49431"
            ]
          },
          "metadata": {
            "tags": []
          },
          "execution_count": 62
        }
      ]
    },
    {
      "cell_type": "code",
      "metadata": {
        "id": "S_Cso61tKBoW",
        "outputId": "1a713fb5-c58c-4359-f6a8-5b2dea7e140e",
        "colab": {
          "base_uri": "https://localhost:8080/",
          "height": 204
        }
      },
      "source": [
        "supply_header = ['year_month','city','supply_qty']\n",
        "supply = pd.read_csv(\"supply.csv\", delimiter=\"\\t\", names = supply_header )\n",
        "supply.head()"
      ],
      "execution_count": 25,
      "outputs": [
        {
          "output_type": "execute_result",
          "data": {
            "text/html": [
              "<div>\n",
              "<style scoped>\n",
              "    .dataframe tbody tr th:only-of-type {\n",
              "        vertical-align: middle;\n",
              "    }\n",
              "\n",
              "    .dataframe tbody tr th {\n",
              "        vertical-align: top;\n",
              "    }\n",
              "\n",
              "    .dataframe thead th {\n",
              "        text-align: right;\n",
              "    }\n",
              "</style>\n",
              "<table border=\"1\" class=\"dataframe\">\n",
              "  <thead>\n",
              "    <tr style=\"text-align: right;\">\n",
              "      <th></th>\n",
              "      <th>year_month</th>\n",
              "      <th>city</th>\n",
              "      <th>supply_qty</th>\n",
              "    </tr>\n",
              "  </thead>\n",
              "  <tbody>\n",
              "    <tr>\n",
              "      <th>0</th>\n",
              "      <td>2019-05</td>\n",
              "      <td>GALLIANO</td>\n",
              "      <td>110</td>\n",
              "    </tr>\n",
              "    <tr>\n",
              "      <th>1</th>\n",
              "      <td>2019-05</td>\n",
              "      <td>BRADENTON</td>\n",
              "      <td>85</td>\n",
              "    </tr>\n",
              "    <tr>\n",
              "      <th>2</th>\n",
              "      <td>2019-05</td>\n",
              "      <td>WINCHESTER</td>\n",
              "      <td>130</td>\n",
              "    </tr>\n",
              "    <tr>\n",
              "      <th>3</th>\n",
              "      <td>2019-05</td>\n",
              "      <td>LABELLE</td>\n",
              "      <td>107</td>\n",
              "    </tr>\n",
              "    <tr>\n",
              "      <th>4</th>\n",
              "      <td>2019-05</td>\n",
              "      <td>EASTON</td>\n",
              "      <td>95</td>\n",
              "    </tr>\n",
              "  </tbody>\n",
              "</table>\n",
              "</div>"
            ],
            "text/plain": [
              "  year_month        city  supply_qty\n",
              "0    2019-05    GALLIANO         110\n",
              "1    2019-05   BRADENTON          85\n",
              "2    2019-05  WINCHESTER         130\n",
              "3    2019-05     LABELLE         107\n",
              "4    2019-05      EASTON          95"
            ]
          },
          "metadata": {
            "tags": []
          },
          "execution_count": 25
        }
      ]
    },
    {
      "cell_type": "markdown",
      "metadata": {
        "id": "Y0mxzG39I-KR"
      },
      "source": [
        "Basic data checks on the data files\n",
        "\n"
      ]
    },
    {
      "cell_type": "code",
      "metadata": {
        "colab": {
          "base_uri": "https://localhost:8080/"
        },
        "id": "3tXqySmJFm1w",
        "outputId": "707cbf04-e382-43f7-b5d1-14a5ef30cd5d"
      },
      "source": [
        "print(\"Shape of sales data - \" + str(sales.shape))\n",
        "print(\"Null value distribution\\n\" + str(sales.isnull().sum()))"
      ],
      "execution_count": 20,
      "outputs": [
        {
          "output_type": "stream",
          "text": [
            "Shape of sales data - (865767, 4)\n",
            "Null value distribution\n",
            "store_id        0\n",
            "date_of_sale    0\n",
            "product         0\n",
            "sales_qty       0\n",
            "dtype: int64\n"
          ],
          "name": "stdout"
        }
      ]
    },
    {
      "cell_type": "markdown",
      "metadata": {
        "id": "nFFv9dA-JOUu"
      },
      "source": [
        ""
      ]
    },
    {
      "cell_type": "code",
      "metadata": {
        "colab": {
          "base_uri": "https://localhost:8080/"
        },
        "id": "JX4mDNbyHN-v",
        "outputId": "e8412ab0-694d-4af4-df5a-4a8009a1fb5e"
      },
      "source": [
        "print(\"Shape of stores data - \" + str(stores.shape))\n",
        "print(\"Null value distribution\\n\" + str(stores.isnull().sum()))"
      ],
      "execution_count": 55,
      "outputs": [
        {
          "output_type": "stream",
          "text": [
            "Shape of stores data - (4365, 4)\n",
            "Null value distribution\n",
            "store_id    0\n",
            "city        0\n",
            "state       0\n",
            "zip         0\n",
            "dtype: int64\n"
          ],
          "name": "stdout"
        }
      ]
    },
    {
      "cell_type": "code",
      "metadata": {
        "colab": {
          "base_uri": "https://localhost:8080/"
        },
        "id": "vyPm7I0NIFJT",
        "outputId": "42ff2fa2-32cc-4267-ae72-f72bd8267612"
      },
      "source": [
        "print(\"Shape of supply data - \" + str(supply.shape))\n",
        "print(\"Null value distribution\\n\" + str(supply.isnull().sum()))"
      ],
      "execution_count": 28,
      "outputs": [
        {
          "output_type": "stream",
          "text": [
            "Shape of supply data - (7443, 3)\n",
            "Null value distribution\n",
            "year_month    0\n",
            "city          0\n",
            "supply_qty    0\n",
            "dtype: int64\n"
          ],
          "name": "stdout"
        }
      ]
    },
    {
      "cell_type": "markdown",
      "metadata": {
        "id": "irfEDEQELOeu"
      },
      "source": [
        "## EDA on the data files"
      ]
    },
    {
      "cell_type": "markdown",
      "metadata": {
        "id": "cc0uiWskSel6"
      },
      "source": [
        "Checking for duplicate values in the stores database"
      ]
    },
    {
      "cell_type": "code",
      "metadata": {
        "id": "4y6XXR_QLbHx",
        "outputId": "33a26c2e-df2d-41d8-a980-b09940bc4fec",
        "colab": {
          "base_uri": "https://localhost:8080/"
        }
      },
      "source": [
        "stores['store_id'].nunique()"
      ],
      "execution_count": 32,
      "outputs": [
        {
          "output_type": "execute_result",
          "data": {
            "text/plain": [
              "4363"
            ]
          },
          "metadata": {
            "tags": []
          },
          "execution_count": 32
        }
      ]
    },
    {
      "cell_type": "code",
      "metadata": {
        "id": "fYb9_AxEKyRN",
        "outputId": "df768b65-e54b-4d4e-a2a3-04e20638524d",
        "colab": {
          "base_uri": "https://localhost:8080/",
          "height": 173
        }
      },
      "source": [
        "stores[stores['store_id'].isin(stores['store_id'][stores['store_id'].duplicated(keep=False)])]"
      ],
      "execution_count": 67,
      "outputs": [
        {
          "output_type": "execute_result",
          "data": {
            "text/html": [
              "<div>\n",
              "<style scoped>\n",
              "    .dataframe tbody tr th:only-of-type {\n",
              "        vertical-align: middle;\n",
              "    }\n",
              "\n",
              "    .dataframe tbody tr th {\n",
              "        vertical-align: top;\n",
              "    }\n",
              "\n",
              "    .dataframe thead th {\n",
              "        text-align: right;\n",
              "    }\n",
              "</style>\n",
              "<table border=\"1\" class=\"dataframe\">\n",
              "  <thead>\n",
              "    <tr style=\"text-align: right;\">\n",
              "      <th></th>\n",
              "      <th>store_id</th>\n",
              "      <th>city</th>\n",
              "      <th>state</th>\n",
              "      <th>zip</th>\n",
              "    </tr>\n",
              "  </thead>\n",
              "  <tbody>\n",
              "    <tr>\n",
              "      <th>249</th>\n",
              "      <td>5192</td>\n",
              "      <td>ANTELOPE</td>\n",
              "      <td>CA</td>\n",
              "      <td>95842</td>\n",
              "    </tr>\n",
              "    <tr>\n",
              "      <th>356</th>\n",
              "      <td>714</td>\n",
              "      <td>HELENA-WEST HELENA</td>\n",
              "      <td>AR</td>\n",
              "      <td>72390</td>\n",
              "    </tr>\n",
              "    <tr>\n",
              "      <th>2908</th>\n",
              "      <td>5192</td>\n",
              "      <td>ANTELOPE</td>\n",
              "      <td>CA</td>\n",
              "      <td>95843</td>\n",
              "    </tr>\n",
              "    <tr>\n",
              "      <th>3893</th>\n",
              "      <td>714</td>\n",
              "      <td>WEST HELENA</td>\n",
              "      <td>AR</td>\n",
              "      <td>72390</td>\n",
              "    </tr>\n",
              "  </tbody>\n",
              "</table>\n",
              "</div>"
            ],
            "text/plain": [
              "      store_id                city state    zip\n",
              "249       5192            ANTELOPE    CA  95842\n",
              "356        714  HELENA-WEST HELENA    AR  72390\n",
              "2908      5192            ANTELOPE    CA  95843\n",
              "3893       714         WEST HELENA    AR  72390"
            ]
          },
          "metadata": {
            "tags": []
          },
          "execution_count": 67
        }
      ]
    },
    {
      "cell_type": "markdown",
      "metadata": {
        "id": "VK2qvpkzSkEz"
      },
      "source": [
        "Two duplicates found in the stores schema"
      ]
    },
    {
      "cell_type": "code",
      "metadata": {
        "id": "BXISTs1cMM99"
      },
      "source": [
        "stores = stores.drop_duplicates(ignore_index=False)"
      ],
      "execution_count": 64,
      "outputs": []
    },
    {
      "cell_type": "code",
      "metadata": {
        "id": "gEDNt9jIT2e-"
      },
      "source": [
        ""
      ],
      "execution_count": null,
      "outputs": []
    }
  ]
}